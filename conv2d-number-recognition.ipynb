{
 "cells": [
  {
   "cell_type": "markdown",
   "id": "394d5c0c",
   "metadata": {},
   "source": [
    "# Number Recognition w/ CNN\n",
    "\n",
    "A simple convolutional neural network to predict numbers trained on the MNIST database. Created using Tensorflow / Keras. Created for BSYS 4005."
   ]
  },
  {
   "cell_type": "markdown",
   "id": "23b3c54f",
   "metadata": {},
   "source": [
    "## Imports"
   ]
  },
  {
   "cell_type": "code",
   "execution_count": 2,
   "id": "ae6bc41d",
   "metadata": {},
   "outputs": [],
   "source": [
    "from tensorflow.keras.datasets import mnist\n",
    "from tensorflow.keras.preprocessing import image\n",
    "from tensorflow.keras.utils import to_categorical\n",
    "from tensorflow.keras.preprocessing.image import load_img, img_to_array\n",
    "from tensorflow.keras.optimizers import SGD\n",
    "from tensorflow.keras.models import Sequential, load_model\n",
    "from tensorflow.keras.layers import Conv2D, Dense, Flatten, MaxPooling2D\n",
    "from tensorflow.keras import layers\n",
    "\n",
    "import numpy as np\n",
    "from matplotlib import pyplot\n",
    "from tensorflow.python import training"
   ]
  },
  {
   "cell_type": "markdown",
   "id": "4595b2ad",
   "metadata": {},
   "source": [
    "## Load & Prepare Data "
   ]
  },
  {
   "cell_type": "code",
   "execution_count": 15,
   "id": "8712e5f5",
   "metadata": {},
   "outputs": [],
   "source": [
    "(train_x, train_y), (test_x, test_y) = mnist.load_data()\n",
    "\n",
    "# One hot encode target values\n",
    "train_y = to_categorical(train_y)\n",
    "test_y = to_categorical(test_y)\n",
    "\n",
    "# Reshape data to single channel\n",
    "train_x = train_x.reshape((train_x.shape[0], 28, 28, 1))\n",
    "test_x = test_x.reshape((test_x.shape[0], 28, 28, 1))\n",
    "\n",
    "# Normalize data\n",
    "training_normalized = train_x.astype(\"float32\") / 255.0\n",
    "testing_normalized = test_x.astype(\"float32\") / 255.0"
   ]
  },
  {
   "cell_type": "markdown",
   "id": "53656941",
   "metadata": {},
   "source": [
    "## Define Model"
   ]
  },
  {
   "cell_type": "code",
   "execution_count": null,
   "id": "7bfc4d56",
   "metadata": {},
   "outputs": [],
   "source": []
  },
  {
   "cell_type": "markdown",
   "id": "df073228",
   "metadata": {},
   "source": [
    "## Train / Evaluate Model"
   ]
  },
  {
   "cell_type": "code",
   "execution_count": null,
   "id": "11768e2b",
   "metadata": {},
   "outputs": [],
   "source": []
  },
  {
   "cell_type": "markdown",
   "id": "1f7f4817",
   "metadata": {},
   "source": [
    "## Predict Images"
   ]
  },
  {
   "cell_type": "code",
   "execution_count": null,
   "id": "6a991508",
   "metadata": {},
   "outputs": [],
   "source": []
  }
 ],
 "metadata": {
  "kernelspec": {
   "display_name": "Python 3 (ipykernel)",
   "language": "python",
   "name": "python3"
  },
  "language_info": {
   "codemirror_mode": {
    "name": "ipython",
    "version": 3
   },
   "file_extension": ".py",
   "mimetype": "text/x-python",
   "name": "python",
   "nbconvert_exporter": "python",
   "pygments_lexer": "ipython3",
   "version": "3.9.0"
  }
 },
 "nbformat": 4,
 "nbformat_minor": 5
}
