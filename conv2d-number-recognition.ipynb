{
 "cells": [
  {
   "cell_type": "markdown",
   "id": "aba3c68f",
   "metadata": {},
   "source": [
    "# conv2d-number-recognition\n",
    "\n",
    "A simple convolutional neural network to predict numbers trained on the MNIST database. Created using Tensorflow / Keras. Created for BSYS 4005."
   ]
  },
  {
   "cell_type": "code",
   "execution_count": 1,
   "id": "a5fc63a8",
   "metadata": {},
   "outputs": [],
   "source": [
    "def load_data():\n",
    "    (train_x, train_y), (test_x, test_y) = mnist.load_data()\n",
    "\n",
    "    # Reshape data to single channel\n",
    "    train_x = train_x.reshape((train_x.shape[0], 28, 28, 1))\n",
    "    test_x = test_x.reshape((test_x.shape[0], 28, 28, 1))\n",
    "\n",
    "    # One hot encode target values\n",
    "    train_y = to_categorical(train_y)\n",
    "    test_y = to_categorical(test_y)\n",
    "\n",
    "    return train_x, train_y, test_x, test_y"
   ]
  }
 ],
 "metadata": {
  "kernelspec": {
   "display_name": "Python 3 (ipykernel)",
   "language": "python",
   "name": "python3"
  },
  "language_info": {
   "codemirror_mode": {
    "name": "ipython",
    "version": 3
   },
   "file_extension": ".py",
   "mimetype": "text/x-python",
   "name": "python",
   "nbconvert_exporter": "python",
   "pygments_lexer": "ipython3",
   "version": "3.9.0"
  }
 },
 "nbformat": 4,
 "nbformat_minor": 5
}
