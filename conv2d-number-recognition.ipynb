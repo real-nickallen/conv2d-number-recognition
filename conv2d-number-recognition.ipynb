{
 "cells": [
  {
   "cell_type": "markdown",
   "id": "418a94ab",
   "metadata": {},
   "source": [
    "# Number Recognition w/ CNN\n",
    "\n",
    "A simple convolutional neural network to predict numbers trained on the MNIST database. Created using Tensorflow / Keras. Created for BSYS 4005."
   ]
  },
  {
   "cell_type": "markdown",
   "id": "df315899",
   "metadata": {},
   "source": [
    "## Imports"
   ]
  },
  {
   "cell_type": "code",
   "execution_count": 50,
   "id": "f859c696",
   "metadata": {},
   "outputs": [],
   "source": [
    "from tensorflow.keras.datasets import mnist\n",
    "from tensorflow.keras.preprocessing import image\n",
    "from tensorflow.keras.utils import to_categorical\n",
    "from tensorflow.keras.preprocessing.image import load_img, img_to_array\n",
    "from tensorflow.keras.optimizers import SGD\n",
    "from tensorflow.keras.models import Sequential, load_model\n",
    "from tensorflow.keras.layers import Conv2D, Dense, Flatten, MaxPooling2D\n",
    "from tensorflow.keras import layers\n",
    "\n",
    "import os\n",
    "os.environ['TF_CPP_MIN_LOG_LEVEL'] = '3'\n",
    "\n",
    "import numpy as np\n",
    "from matplotlib import pyplot"
   ]
  },
  {
   "cell_type": "markdown",
   "id": "9bb4f875",
   "metadata": {},
   "source": [
    "## Load & Prepare Data "
   ]
  },
  {
   "cell_type": "code",
   "execution_count": 51,
   "id": "ea4921c9",
   "metadata": {},
   "outputs": [],
   "source": [
    "(train_x, train_y), (test_x, test_y) = mnist.load_data()\n",
    "\n",
    "# One hot encode target values\n",
    "train_y = to_categorical(train_y)\n",
    "test_y = to_categorical(test_y)\n",
    "\n",
    "# Reshape data to single channel\n",
    "raw_train_x = train_x.reshape((train_x.shape[0], 28, 28, 1))\n",
    "raw_test_x = test_x.reshape((test_x.shape[0], 28, 28, 1))\n",
    "\n",
    "# Normalize data\n",
    "train_x = raw_train_x.astype(\"float32\") / 255.0\n",
    "test_x = raw_test_x.astype(\"float32\") / 255.0"
   ]
  },
  {
   "cell_type": "markdown",
   "id": "a7fdc550",
   "metadata": {},
   "source": [
    "## Define Model"
   ]
  },
  {
   "cell_type": "code",
   "execution_count": 52,
   "id": "58bc5246",
   "metadata": {},
   "outputs": [],
   "source": [
    "# Define model structure\n",
    "cnn_model = Sequential(\n",
    "    [\n",
    "        layers.Conv2D(32, (3, 3), activation='relu', kernel_initializer='he_uniform', input_shape=(28, 28, 1)),\n",
    "        layers.MaxPooling2D((2, 2)),\n",
    "        layers.Conv2D(64, (3, 3), activation=\"relu\", kernel_initializer=\"he_uniform\"),\n",
    "        layers.Conv2D(64, (3, 3), activation=\"relu\", kernel_initializer=\"he_uniform\"),\n",
    "        layers.MaxPooling2D(2, 2),\n",
    "        layers.Flatten(),\n",
    "        layers.Dense(100, activation=\"relu\", kernel_initializer=\"he_uniform\"),\n",
    "        layers.Dense(10, activation=\"softmax\"),\n",
    "    ]\n",
    ")\n",
    "\n",
    "# Compile model\n",
    "opt = SGD(learning_rate = 0.01, momentum = 0.9)\n",
    "cnn_model.compile(optimizer = opt, loss = \"categorical_crossentropy\", metrics=[\"accuracy\"])"
   ]
  },
  {
   "cell_type": "markdown",
   "id": "d6bf04c9",
   "metadata": {},
   "source": [
    "## Train / Evaluate Model"
   ]
  },
  {
   "cell_type": "code",
   "execution_count": 53,
   "id": "b2bf423c",
   "metadata": {},
   "outputs": [
    {
     "name": "stdout",
     "output_type": "stream",
     "text": [
      "Epoch 1/5\n",
      "3750/3750 [==============================] - 20s 5ms/step - loss: 0.1146 - accuracy: 0.9640 - val_loss: 0.0413 - val_accuracy: 0.9855\n",
      "Epoch 2/5\n",
      "3750/3750 [==============================] - 20s 5ms/step - loss: 0.0398 - accuracy: 0.9869 - val_loss: 0.0460 - val_accuracy: 0.9852\n",
      "Epoch 3/5\n",
      "3750/3750 [==============================] - 20s 5ms/step - loss: 0.0252 - accuracy: 0.9924 - val_loss: 0.0298 - val_accuracy: 0.9905\n",
      "Epoch 4/5\n",
      "3750/3750 [==============================] - 20s 5ms/step - loss: 0.0183 - accuracy: 0.9945 - val_loss: 0.0301 - val_accuracy: 0.9900\n",
      "Epoch 5/5\n",
      "3750/3750 [==============================] - 21s 6ms/step - loss: 0.0148 - accuracy: 0.9954 - val_loss: 0.0297 - val_accuracy: 0.9913\n",
      "Model Accuracy on Test Data: 99.12999868392944\n",
      "INFO:tensorflow:Assets written to: keras_model/assets\n"
     ]
    }
   ],
   "source": [
    "scores, histories = list(), list()\n",
    "\n",
    "cnn_model.fit(train_x, train_y, epochs=5, batch_size=16, validation_data=(test_x, test_y), verbose=1)\n",
    "\n",
    "_, eval_results = cnn_model.evaluate(test_x, test_y, verbose=0)\n",
    "\n",
    "print(f\"Model Accuracy on Test Data: {eval_results * 100.0}\")\n",
    "\n",
    "# Save model to be used later\n",
    "cnn_model.save(\"keras_model\")"
   ]
  },
  {
   "cell_type": "markdown",
   "id": "b77f1f97",
   "metadata": {},
   "source": [
    "## Helper Functions\n",
    "Helper function to load / prepare custom images. Images should be 28x28."
   ]
  },
  {
   "cell_type": "code",
   "execution_count": 16,
   "id": "fa45f9ae",
   "metadata": {},
   "outputs": [],
   "source": [
    "def load_custom_file(image_path):\n",
    "    # Load image\n",
    "    custom_img = load_img(image_path, color_mode=\"grayscale\", target_size=(28, 28))\n",
    "\n",
    "    # Convert image data to array\n",
    "    custom_img = img_to_array(custom_img)\n",
    "\n",
    "    # Reshape into a single sample with 1 channel and invert to match training set\n",
    "    custom_img = 255.0 - custom_img.reshape(1, 28, 28, 1)\n",
    "\n",
    "    # Prepare and normalize pixel data\n",
    "    custom_img = custom_img.astype('float32') / 255.0\n",
    "\n",
    "    return custom_img"
   ]
  },
  {
   "cell_type": "markdown",
   "id": "c4344b7a",
   "metadata": {},
   "source": [
    "Helper function to make it easy to call the model."
   ]
  },
  {
   "cell_type": "code",
   "execution_count": null,
   "id": "05009e09",
   "metadata": {},
   "outputs": [],
   "source": [
    "def predict_image(img_path, saved_model):\n",
    "    img = load_custom_file(img_path)\n",
    "    predictions = saved_model.predict(img)\n",
    "    print(f\"Model Predicts {np.argmax(predictions)} with {np.amax(predictions)*100:0.2f}% confidence.\")"
   ]
  },
  {
   "cell_type": "markdown",
   "id": "80752abd",
   "metadata": {},
   "source": [
    "Helper function to plot custom image files."
   ]
  },
  {
   "cell_type": "code",
   "execution_count": null,
   "id": "1e0a52e1",
   "metadata": {},
   "outputs": [],
   "source": [
    "def plot_image(img_path):\n",
    "    # Load image data from png files into an array\n",
    "    img_array = img_to_array(load_img(\n",
    "        img_path, color_mode=\"grayscale\", target_size=(28, 28)))\n",
    "\n",
    "    img_data = 255 - (img_array / 255.0 * 0.99) + 0.01\n",
    "\n",
    "    pyplot.imshow(img_data, cmap=\"Greys\", interpolation=\"None\")\n",
    "    pyplot.show()"
   ]
  },
  {
   "cell_type": "markdown",
   "id": "2ea44321",
   "metadata": {},
   "source": [
    "## Predict Images"
   ]
  },
  {
   "cell_type": "code",
   "execution_count": null,
   "id": "3cb83757",
   "metadata": {},
   "outputs": [],
   "source": [
    "saved_model = load_model(\"keras_model\")\n",
    "\n",
    "test_img = [\"Images/3-test-img.png\", \"Images/7-test-img.png\", \"Images/9-test-img.png\"]\n",
    "\n",
    "for img in test_img:\n",
    "    predict_image(img, saved_model)\n",
    "    plot_image(img)"
   ]
  }
 ],
 "metadata": {
  "kernelspec": {
   "display_name": "Python 3 (ipykernel)",
   "language": "python",
   "name": "python3"
  },
  "language_info": {
   "codemirror_mode": {
    "name": "ipython",
    "version": 3
   },
   "file_extension": ".py",
   "mimetype": "text/x-python",
   "name": "python",
   "nbconvert_exporter": "python",
   "pygments_lexer": "ipython3",
   "version": "3.9.0"
  }
 },
 "nbformat": 4,
 "nbformat_minor": 5
}
